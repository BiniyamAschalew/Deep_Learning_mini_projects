{
  "cells": [
    {
      "cell_type": "markdown",
      "metadata": {
        "id": "view-in-github"
      },
      "source": [
        "<a href=\"https://colab.research.google.com/github/pidipidi/cs470_IAI/blob/main/CNN_assignment_1.ipynb\" target=\"_parent\"><img src=\"https://colab.research.google.com/assets/colab-badge.svg\" alt=\"Open In Colab\"/></a>"
      ]
    },
    {
      "cell_type": "markdown",
      "metadata": {
        "id": "W02QTcZ9Qc2C"
      },
      "source": [
        "# Problem 1: Convolution operations using NumPy"
      ]
    },
    {
      "cell_type": "markdown",
      "metadata": {
        "id": "4tNgDP9VlkEG"
      },
      "source": [
        "### Import necessary libraries"
      ]
    },
    {
      "cell_type": "code",
      "execution_count": 1,
      "metadata": {
        "id": "dtPFNagCuNp9"
      },
      "outputs": [],
      "source": [
        "import torch\n",
        "import torch.nn as nn\n",
        "import torch.nn.functional as F\n",
        "import torch.optim as optim\n",
        "from torchvision import datasets, transforms\n",
        "from torch.autograd import Variable\n",
        "import itertools"
      ]
    },
    {
      "cell_type": "markdown",
      "metadata": {
        "id": "yGfg9x-LQqKb"
      },
      "source": [
        "### Download the MNIST dataset and visualize samples"
      ]
    },
    {
      "cell_type": "code",
      "execution_count": 2,
      "metadata": {
        "id": "Chtyv6ODuboJ",
        "colab": {
          "base_uri": "https://localhost:8080/",
          "height": 440,
          "referenced_widgets": [
            "79e0107c85f94962ac0ca3d0636e4ad1",
            "3b1674146e364262a23791a04ae53254",
            "e5b278843f054f80864b1207073bf81c",
            "a95028e5be454639a3599382cbb4232b",
            "5e95c744c96e4fc49bbbaacefa7a9f60",
            "eabd958721204289934012845f794466",
            "6556df2c10474070b0e23e06e14cc388",
            "194c7b3571e149c9b94c825eb606a1af",
            "996789a10d724386b484eb1fd094f2be",
            "2f73a8fbe90e44a79a9230d20f6e271e",
            "88776320ba9a47c38b9dd878d501acc1",
            "af51d08e8c554e9f9ebcb465d40bb872",
            "d518f117f9c54cc5aeaad3c1730d435f",
            "63308ec883504951b5390db8faec387a",
            "64159c856c5940a98397570a133ac25b",
            "aeb63955a415444aa29b701c0fb78f97",
            "570ac3b63fa44080844eed721ed03e03",
            "52c03c2b1cf041119667c7aae476db5e",
            "59e1725831e1499a8c340ec6dc8b203f",
            "2f6fa402a9db4b019c37560b4b0f70b2",
            "40411e0a78f04b29b1e935ff49326c3b",
            "212ebb3d86b747bdb3211fb844647620",
            "bd744858cafc4ce2b132ca3141ff6ee1",
            "62ea93fef9394b34b01282fed8e64a18",
            "04d71006560642c3b47f1f515dee6b5a",
            "48d28177d08140eca74efb48e8c16620",
            "06b80278034c4641abdfa5a4960958a2",
            "b3f830a3825b4d5c8e9da1654f61de78",
            "fd3f3c57e53e4adb9ac0249a6d5859c7",
            "caaaac31655345ce938659dc48aaf851",
            "f624960299ae472582fd288a58ff7c72",
            "daaee70edc794feb91f0ed66f8898824",
            "c0f45081f1e742e189606b9e897335a7",
            "70720ee3671e4cdf82b9edc125b42013",
            "2847606a38114d95ab4f44b49fd0515c",
            "c372734662d04ff6a036fe2970c2bf8a",
            "d5f52cc994c34bbaa94a3f0bbf65d4a2",
            "1bae93f02dcb4e5d9dbef7ab160882ee",
            "6b2ffea06bd3496eb5028325bb70c8aa",
            "5ab24d97bd814d52b79e7af28d0301ec",
            "e12a7d59d2b04052a37e0966da379f30",
            "811d95f5a4b74ff196cd31093c89a88c",
            "cbcf5705a038454f8caa334cd7a4a3d8",
            "09a56891b6304764974dd73eb2ddf1f9"
          ]
        },
        "outputId": "e99bfeb4-6b4f-4e0e-af5f-4a663266c78c"
      },
      "outputs": [
        {
          "output_type": "stream",
          "name": "stdout",
          "text": [
            "Downloading http://yann.lecun.com/exdb/mnist/train-images-idx3-ubyte.gz\n",
            "Downloading http://yann.lecun.com/exdb/mnist/train-images-idx3-ubyte.gz to data/MNIST/raw/train-images-idx3-ubyte.gz\n"
          ]
        },
        {
          "output_type": "display_data",
          "data": {
            "text/plain": [
              "  0%|          | 0/9912422 [00:00<?, ?it/s]"
            ],
            "application/vnd.jupyter.widget-view+json": {
              "version_major": 2,
              "version_minor": 0,
              "model_id": "79e0107c85f94962ac0ca3d0636e4ad1"
            }
          },
          "metadata": {}
        },
        {
          "output_type": "stream",
          "name": "stdout",
          "text": [
            "Extracting data/MNIST/raw/train-images-idx3-ubyte.gz to data/MNIST/raw\n",
            "\n",
            "Downloading http://yann.lecun.com/exdb/mnist/train-labels-idx1-ubyte.gz\n",
            "Downloading http://yann.lecun.com/exdb/mnist/train-labels-idx1-ubyte.gz to data/MNIST/raw/train-labels-idx1-ubyte.gz\n"
          ]
        },
        {
          "output_type": "display_data",
          "data": {
            "text/plain": [
              "  0%|          | 0/28881 [00:00<?, ?it/s]"
            ],
            "application/vnd.jupyter.widget-view+json": {
              "version_major": 2,
              "version_minor": 0,
              "model_id": "af51d08e8c554e9f9ebcb465d40bb872"
            }
          },
          "metadata": {}
        },
        {
          "output_type": "stream",
          "name": "stdout",
          "text": [
            "Extracting data/MNIST/raw/train-labels-idx1-ubyte.gz to data/MNIST/raw\n",
            "\n",
            "Downloading http://yann.lecun.com/exdb/mnist/t10k-images-idx3-ubyte.gz\n",
            "Downloading http://yann.lecun.com/exdb/mnist/t10k-images-idx3-ubyte.gz to data/MNIST/raw/t10k-images-idx3-ubyte.gz\n"
          ]
        },
        {
          "output_type": "display_data",
          "data": {
            "text/plain": [
              "  0%|          | 0/1648877 [00:00<?, ?it/s]"
            ],
            "application/vnd.jupyter.widget-view+json": {
              "version_major": 2,
              "version_minor": 0,
              "model_id": "bd744858cafc4ce2b132ca3141ff6ee1"
            }
          },
          "metadata": {}
        },
        {
          "output_type": "stream",
          "name": "stdout",
          "text": [
            "Extracting data/MNIST/raw/t10k-images-idx3-ubyte.gz to data/MNIST/raw\n",
            "\n",
            "Downloading http://yann.lecun.com/exdb/mnist/t10k-labels-idx1-ubyte.gz\n",
            "Downloading http://yann.lecun.com/exdb/mnist/t10k-labels-idx1-ubyte.gz to data/MNIST/raw/t10k-labels-idx1-ubyte.gz\n"
          ]
        },
        {
          "output_type": "display_data",
          "data": {
            "text/plain": [
              "  0%|          | 0/4542 [00:00<?, ?it/s]"
            ],
            "application/vnd.jupyter.widget-view+json": {
              "version_major": 2,
              "version_minor": 0,
              "model_id": "70720ee3671e4cdf82b9edc125b42013"
            }
          },
          "metadata": {}
        },
        {
          "output_type": "stream",
          "name": "stdout",
          "text": [
            "Extracting data/MNIST/raw/t10k-labels-idx1-ubyte.gz to data/MNIST/raw\n",
            "\n"
          ]
        }
      ],
      "source": [
        "torch.manual_seed(0)\n",
        "batch_size = 50\n",
        "train_loader = torch.utils.data.DataLoader(\n",
        "    datasets.MNIST('data', train=True, download=True, transform=transforms.ToTensor()),\n",
        "    batch_size=batch_size, shuffle=True)"
      ]
    },
    {
      "cell_type": "markdown",
      "metadata": {
        "id": "FVHBIOhfuuyL"
      },
      "source": [
        "You can check what kind of training images are in the MNIST dataset."
      ]
    },
    {
      "cell_type": "code",
      "execution_count": 3,
      "metadata": {
        "id": "VqNU064huwd6",
        "colab": {
          "base_uri": "https://localhost:8080/",
          "height": 482
        },
        "outputId": "0b70b3d1-944e-453b-8bd8-32b8ebd03058"
      },
      "outputs": [
        {
          "output_type": "display_data",
          "data": {
            "text/plain": [
              "<Figure size 576x576 with 9 Axes>"
            ],
            "image/png": "[encoded data removed]"
          },
          "metadata": {
            "needs_background": "light"
          }
        }
      ],
      "source": [
        "import matplotlib.pyplot as plt\n",
        "import numpy as np\n",
        "torch.manual_seed(1)\n",
        "\n",
        "figure = plt.figure(figsize=(8, 8))\n",
        "cols, rows = 3, 3\n",
        "for i in range(1, cols * rows + 1):\n",
        "    sample_idx = torch.randint(len(train_loader.dataset), size=(1,)).item()\n",
        "    img, label = train_loader.dataset[sample_idx]\n",
        "    figure.add_subplot(rows, cols, i)\n",
        "    plt.title(label)\n",
        "    plt.axis(\"off\")\n",
        "    plt.imshow(img.squeeze(), cmap=\"gray\")\n",
        "plt.show()"
      ]
    },
    {
      "cell_type": "markdown",
      "metadata": {
        "id": "qz1O9u85nUcU"
      },
      "source": [
        "We then define three filters used in convolution operations:"
      ]
    },
    {
      "cell_type": "code",
      "execution_count": 4,
      "metadata": {
        "id": "drLji0aMnSz6"
      },
      "outputs": [],
      "source": [
        "kernel_1 = [[1,0,0,0,0],\n",
        "            [0,1,0,0,0],\n",
        "            [0,0,1,0,0],\n",
        "            [0,0,0,1,0],\n",
        "            [0,0,0,0,1]]\n",
        "\n",
        "kernel_2 = [[0,0,1,0,0],\n",
        "            [0,0,1,0,0],\n",
        "            [0,0,1,0,0],\n",
        "            [0,0,1,0,0],\n",
        "            [0,0,1,0,0]]\n",
        "\n",
        "kernel_3 = [[0,0,0,0,1],\n",
        "            [0,0,0,1,0],\n",
        "            [0,0,1,0,0],\n",
        "            [0,1,0,0,0],\n",
        "            [1,0,0,0,0]]\n",
        "filters = np.asarray([[kernel_1], [kernel_2], [kernel_3]])"
      ]
    },
    {
      "cell_type": "markdown",
      "metadata": {
        "id": "VsLp-wJil0gB"
      },
      "source": [
        "We also define a visualization function for later uses."
      ]
    },
    {
      "cell_type": "code",
      "execution_count": 5,
      "metadata": {
        "id": "GMc615LIlzi0"
      },
      "outputs": [],
      "source": [
        "def visualize_conv(img_0, img_filtered, img_pooled):\n",
        "    \"\"\"\n",
        "    A 2D Convolution filter\n",
        "\n",
        "    Parameters\n",
        "    ---------- \n",
        "    img_0: matrix  \n",
        "      an original image.\n",
        "    img_filtered: \n",
        "      a list of images after applying convolution filters\n",
        "    img_pooled:\n",
        "      a list of images after applying convolution filters + max pooling\n",
        "    \"\"\"\n",
        "\n",
        "    figure = plt.figure(figsize=(8, 4))\n",
        "    figure.add_subplot(2, 4, 1)\n",
        "    plt.title(\"Original\")\n",
        "    plt.axis(\"off\")\n",
        "    plt.imshow(img_0.squeeze(), cmap=\"gray\")\n",
        "\n",
        "    figure.add_subplot(2, 4, 2)\n",
        "    plt.title(\"Filter 1\")\n",
        "    plt.axis(\"off\")\n",
        "    plt.imshow(img_filtered[0].squeeze(), cmap=\"gray\")\n",
        "\n",
        "    figure.add_subplot(2, 4, 3)\n",
        "    plt.title(\"Filter 2\")\n",
        "    plt.axis(\"off\")\n",
        "    plt.imshow(img_filtered[1].squeeze(), cmap=\"gray\")\n",
        "\n",
        "    figure.add_subplot(2, 4, 4)\n",
        "    plt.title(\"Filter 3\")\n",
        "    plt.axis(\"off\")\n",
        "    plt.imshow(img_filtered[2].squeeze(), cmap=\"gray\")            \n",
        "\n",
        "    figure.add_subplot(2, 4, 6)\n",
        "    plt.title(\"Filter1 + Pooling\")\n",
        "    plt.axis(\"off\")\n",
        "    plt.imshow(img_pooled[0].squeeze(), cmap=\"gray\")\n",
        "\n",
        "    figure.add_subplot(2, 4, 7)\n",
        "    plt.title(\"Filter 2 + Pooling\")\n",
        "    plt.axis(\"off\")\n",
        "    plt.imshow(img_pooled[1].squeeze(), cmap=\"gray\")\n",
        "\n",
        "    figure.add_subplot(2, 4, 8)\n",
        "    plt.title(\"Filter 3 + Pooling\")\n",
        "    plt.axis(\"off\")\n",
        "    plt.imshow(img_pooled[2].squeeze(), cmap=\"gray\")     "
      ]
    },
    {
      "cell_type": "markdown",
      "metadata": {
        "id": "IP6giFKGuk2N"
      },
      "source": [
        "## Convolution + MaxPooling with Numpy \n",
        "In this part, we create convolution and pooling functions by only using NumPy."
      ]
    },
    {
      "cell_type": "code",
      "execution_count": 6,
      "metadata": {
        "id": "JzFnc_QoMtlh"
      },
      "outputs": [],
      "source": [
        "def convolution(X, filters, stride_size=1, pad_size=0):\n",
        "    \"\"\"\n",
        "    Applies a 2D convolution over an input signal\n",
        "\n",
        "    Parameters\n",
        "    ---------- \n",
        "    X: Numpy Array\n",
        "      an input data of shape (c, h, w), where h and w is the height and width\n",
        "      of the input image. Note that we use black-white images so the number of \n",
        "      channel c is 1.\n",
        "  \n",
        "    Returns\n",
        "    ---------- \n",
        "    out:     \n",
        "      an output data given X.\n",
        "    \"\"\"\n",
        "    c, h, w = X.shape\n",
        "    n_f, _, filter_h, filter_w = filters.shape\n",
        "\n",
        "    out_h = (h + 2 * pad_size - filter_h) // stride_size + 1\n",
        "    out_w = (w + 2 * pad_size - filter_w) // stride_size + 1\n",
        "\n",
        "    # add padding to height and width.\n",
        "    in_X = np.pad(X, [(0, 0), (pad_size, pad_size), (pad_size, pad_size)], 'constant')\n",
        "    out  = np.zeros((n_f, out_h, out_w))\n",
        "\n",
        "    #############################################################################\n",
        "    # PLACE YOUR CODE HERE                                                      #\n",
        "    ############################################################################# \n",
        "    # Apply the convolution filters\n",
        "    for k in range(n_f):\n",
        "      for j in range(out_h):\n",
        "        for i in range(out_w):\n",
        "          vert_start = j * stride_size\n",
        "          vert_end = j * stride_size + filter_h\n",
        "          horiz_start = i * stride_size\n",
        "          horiz_end = i * stride_size + filter_w\n",
        "          X_sub = X[0, vert_start:vert_end, horiz_start:horiz_end]\n",
        "          out[k,j,i] = float(np.sum(np.multiply(X_sub, filters[k])))\n",
        "\n",
        "        \n",
        "    # END OF YOUR CODE                                                          #\n",
        "    #############################################################################\n",
        "    return out\n",
        "\n",
        "def max_pooling(X, pool_size=2, stride_size=2):\n",
        "    \"\"\"\n",
        "    Applies a 2D max pooling over an input signal\n",
        "\n",
        "    Parameters\n",
        "    ---------- \n",
        "    X: Numpy Array  \n",
        "      an input data of shape (c, h, w), where c, h, and w are the number of \n",
        "      channels, the height, and the width of the input image. \n",
        "  \n",
        "    Returns\n",
        "    ---------- \n",
        "    pool_out:     \n",
        "      an output data given X.\n",
        "    \"\"\"\n",
        "    c, h, w = X.shape\n",
        "\n",
        "    #Preparing the output of the pooling operation.\n",
        "    pool_out = np.zeros((c, \n",
        "                         np.uint16((h-pool_size)/stride_size)+1,\n",
        "                         np.uint16((w-pool_size)/stride_size)+1,\n",
        "                         ))\n",
        "    \n",
        "    #############################################################################\n",
        "    # PLACE YOUR CODE HERE                                                      #\n",
        "    #############################################################################     \n",
        "    # Apply max pooling\n",
        "    for k in range(c):\n",
        "      for i in range(np.uint16((h-pool_size)/stride_size)+1):\n",
        "        for j in range(np.uint16((w-pool_size)/stride_size)+1):\n",
        "            pool_segment = X[k, i * stride_size: i * stride_size + pool_size, j * stride_size: j * stride_size + pool_size]\n",
        "            pool_out[k, i, j] = np.max(pool_segment)\n",
        "\n",
        "    # END OF YOUR CODE                                                          #\n",
        "    #############################################################################            \n",
        "    return pool_out    "
      ]
    },
    {
      "cell_type": "markdown",
      "metadata": {
        "id": "yQofoYuRog9-"
      },
      "source": [
        "Visualize the filtering and pooling results for comparison."
      ]
    },
    {
      "cell_type": "code",
      "execution_count": 7,
      "metadata": {
        "id": "Eu4PQyCGw6WD",
        "colab": {
          "base_uri": "https://localhost:8080/",
          "height": 1000
        },
        "outputId": "43960f3f-d1e8-4daa-c3d2-8299763d24b3"
      },
      "outputs": [
        {
          "output_type": "display_data",
          "data": {
            "text/plain": [
              "<Figure size 576x288 with 7 Axes>"
            ],
            "image/png": "[encoded data removed]"
          },
          "metadata": {
            "needs_background": "light"
          }
        },
        {
          "output_type": "display_data",
          "data": {
            "text/plain": [
              "<Figure size 576x288 with 7 Axes>"
            ],
            "image/png": "[encoded data removed]"
          },
          "metadata": {
            "needs_background": "light"
          }
        },
        {
          "output_type": "display_data",
          "data": {
            "text/plain": [
              "<Figure size 576x288 with 7 Axes>"
            ],
            "image/png": "[encoded data removed]"
          },
          "metadata": {
            "needs_background": "light"
          }
        },
        {
          "output_type": "display_data",
          "data": {
            "text/plain": [
              "<Figure size 576x288 with 7 Axes>"
            ],
            "image/png": "[encoded data removed]"
          },
          "metadata": {
            "needs_background": "light"
          }
        }
      ],
      "source": [
        "# fix the random seed\n",
        "torch.manual_seed(6)\n",
        "numpy_return = []\n",
        "\n",
        "# visualize a random 5\n",
        "for i in range(1, 5):\n",
        "    sample_idx = torch.randint(len(train_loader.dataset), size=(1,)).item()\n",
        "    img, label = train_loader.dataset[sample_idx]\n",
        "\n",
        "    out1 = convolution(img.numpy(), filters, stride_size=1, pad_size=0)\n",
        "    out2 = max_pooling(out1)\n",
        "\n",
        "    visualize_conv(img, out1, out2)\n",
        "    numpy_return.append([out1.copy(), out2.copy()]) # save the result\n",
        "            "
      ]
    },
    {
      "cell_type": "markdown",
      "metadata": {
        "id": "kIORcu9fQyBC"
      },
      "source": [
        "## Convolution + MaxPooling with PyTorch \n",
        "In this part, we create convolution and pooling functions by using PyTorch."
      ]
    },
    {
      "cell_type": "code",
      "execution_count": 8,
      "metadata": {
        "id": "0ivPgkIgxVBz",
        "colab": {
          "base_uri": "https://localhost:8080/",
          "height": 1000
        },
        "outputId": "d972ce32-3549-44a5-ac72-2c2cb6baebac"
      },
      "outputs": [
        {
          "output_type": "display_data",
          "data": {
            "text/plain": [
              "<Figure size 576x288 with 7 Axes>"
            ],
            "image/png": "[encoded data removed]"
          },
          "metadata": {
            "needs_background": "light"
          }
        },
        {
          "output_type": "display_data",
          "data": {
            "text/plain": [
              "<Figure size 576x288 with 7 Axes>"
            ],
            "image/png": "[encoded data removed]"
          },
          "metadata": {
            "needs_background": "light"
          }
        },
        {
          "output_type": "display_data",
          "data": {
            "text/plain": [
              "<Figure size 576x288 with 7 Axes>"
            ],
            "image/png": "[encoded data removed]"
          },
          "metadata": {
            "needs_background": "light"
          }
        },
        {
          "output_type": "display_data",
          "data": {
            "text/plain": [
              "<Figure size 576x288 with 7 Axes>"
            ],
            "image/png": "[encoded data removed]"
          },
          "metadata": {
            "needs_background": "light"
          }
        }
      ],
      "source": [
        "\n",
        "class CNN1(nn.Module):\n",
        "  \"\"\"\n",
        "  A simple convolutional neural network (CNN):\n",
        "    input - convolution - output\n",
        "  \"\"\"  \n",
        "  def __init__(self):\n",
        "    \"\"\"initialize layers\"\"\"\n",
        "    super(CNN1, self).__init__()\n",
        "\n",
        "    #############################################################################\n",
        "    # PLACE YOUR CODE HERE                                                      #\n",
        "    ############################################################################# \n",
        "    # Define a CNN layer with a single channel, 3 filters, and 5 kernel size.\n",
        "    # You should diable using the bias.\n",
        "\n",
        "    self.conv = nn.Conv2d(1, 3, 5, bias=False)\n",
        "\n",
        "    # END OF YOUR CODE                                                          #\n",
        "    ############################################################################# \n",
        "\n",
        "    # Force to set the internal weight using the pre-defined kernels. \n",
        "    with torch.no_grad():\n",
        "        self.conv.weight.data[0][0] = torch.tensor(kernel_1)\n",
        "        self.conv.weight.data[1][0] = torch.tensor(kernel_2)\n",
        "        self.conv.weight.data[2][0] = torch.tensor(kernel_3)        \n",
        "        #self.conv.bias.data.zero_()\n",
        "\n",
        "  def forward(self, x):\n",
        "    \"\"\"forward pass\"\"\"\n",
        "    out = self.conv(x)\n",
        "    return out\n",
        "\n",
        "class CNN2(nn.Module):\n",
        "  \"\"\"\n",
        "  A simple convolutional neural network (CNN):\n",
        "    input - convolution - max pooling - output\n",
        "  \"\"\"    \n",
        "  def __init__(self):\n",
        "    \"\"\"initialize layers\"\"\"\n",
        "    super(CNN2, self).__init__()\n",
        "\n",
        "    #############################################################################\n",
        "    # PLACE YOUR CODE HERE                                                      #\n",
        "    ############################################################################# \n",
        "    # Define a CNN layer with a single channel, 3 filters, and 5 kernel size.\n",
        "    # Connect a max pooling with 2 kernel size. \n",
        "    # You should diable using the bias.\n",
        "    self.conv = nn.Conv2d(1, 3, 5, bias=False)\n",
        "    self.pool = nn.MaxPool2d(2, 2)\n",
        "\n",
        "\n",
        "    # END OF YOUR CODE                                                          #\n",
        "    ############################################################################# \n",
        "\n",
        "    # Force to set the internal weight using the pre-defined kernels. \n",
        "    with torch.no_grad():\n",
        "        self.conv.weight.data[0][0] = torch.tensor(kernel_1)\n",
        "        self.conv.weight.data[1][0] = torch.tensor(kernel_2)\n",
        "        self.conv.weight.data[2][0] = torch.tensor(kernel_3)\n",
        "        #self.conv.bias.data.zero_()\n",
        "\n",
        "  def forward(self, x):\n",
        "    \"\"\"forward pass\"\"\"\n",
        "    out = self.conv(x)\n",
        "    out = self.pool(out)\n",
        "    return out\n",
        "\n",
        "\n",
        "filter_net         = CNN1()\n",
        "filter_pooling_net = CNN2()\n",
        "\n",
        "torch.manual_seed(6)\n",
        "pytorch_return = []\n",
        "for i in range(1, 5):\n",
        "    sample_idx = torch.randint(len(train_loader.dataset), size=(1,)).item()\n",
        "    img, label = train_loader.dataset[sample_idx]\n",
        "    x = img.unsqueeze(0)\n",
        "\n",
        "    out1 = filter_net(x).detach().numpy()[0]\n",
        "    out2 = filter_pooling_net(x).detach().numpy()[0]\n",
        " \n",
        "    visualize_conv(x, out1, out2)\n",
        "    pytorch_return.append([out1.copy(), out2.copy()])"
      ]
    },
    {
      "cell_type": "code",
      "source": [],
      "metadata": {
        "id": "r-VAgHHIsSu5"
      },
      "execution_count": null,
      "outputs": []
    },
    {
      "cell_type": "markdown",
      "metadata": {
        "id": "GyTsRRv56qPQ"
      },
      "source": [
        "To analyze two types of results, you can also compare the stored results, too. "
      ]
    }
  ],
  "metadata": {
    "colab": {
      "collapsed_sections": [],
      "provenance": []
    },
    "kernelspec": {
      "display_name": "Python 3.8.10 64-bit",
      "language": "python",
      "name": "python3"
    },
    "language_info": {
      "name": "python",
      "version": "3.8.10"
    },
    "vscode": {
      "interpreter": {
        "hash": "916dbcbb3f70747c44a77c7bcd40155683ae19c65e1c03b4aa3499c5328201f1"
      }
    },
    "widgets": {
      "application/vnd.jupyter.widget-state+json": {
        "79e0107c85f94962ac0ca3d0636e4ad1": {
          "model_module": "@jupyter-widgets/controls",
          "model_name": "HBoxModel",
          "model_module_version": "1.5.0",
          "state": {
            "_dom_classes": [],
            "_model_module": "@jupyter-widgets/controls",
            "_model_module_version": "1.5.0",
            "_model_name": "HBoxModel",
            "_view_count": null,
            "_view_module": "@jupyter-widgets/controls",
            "_view_module_version": "1.5.0",
            "_view_name": "HBoxView",
            "box_style": "",
            "children": [
              "IPY_MODEL_3b1674146e364262a23791a04ae53254",
              "IPY_MODEL_e5b278843f054f80864b1207073bf81c",
              "IPY_MODEL_a95028e5be454639a3599382cbb4232b"
            ],
            "layout": "IPY_MODEL_5e95c744c96e4fc49bbbaacefa7a9f60"
          }
        },
        "3b1674146e364262a23791a04ae53254": {
          "model_module": "@jupyter-widgets/controls",
          "model_name": "HTMLModel",
          "model_module_version": "1.5.0",
          "state": {
            "_dom_classes": [],
            "_model_module": "@jupyter-widgets/controls",
            "_model_module_version": "1.5.0",
            "_model_name": "HTMLModel",
            "_view_count": null,
            "_view_module": "@jupyter-widgets/controls",
            "_view_module_version": "1.5.0",
            "_view_name": "HTMLView",
            "description": "",
            "description_tooltip": null,
            "layout": "IPY_MODEL_eabd958721204289934012845f794466",
            "placeholder": "​",
            "style": "IPY_MODEL_6556df2c10474070b0e23e06e14cc388",
            "value": "100%"
          }
        },
        "e5b278843f054f80864b1207073bf81c": {
          "model_module": "@jupyter-widgets/controls",
          "model_name": "FloatProgressModel",
          "model_module_version": "1.5.0",
          "state": {
            "_dom_classes": [],
            "_model_module": "@jupyter-widgets/controls",
            "_model_module_version": "1.5.0",
            "_model_name": "FloatProgressModel",
            "_view_count": null,
            "_view_module": "@jupyter-widgets/controls",
            "_view_module_version": "1.5.0",
            "_view_name": "ProgressView",
            "bar_style": "success",
            "description": "",
            "description_tooltip": null,
            "layout": "IPY_MODEL_194c7b3571e149c9b94c825eb606a1af",
            "max": 9912422,
            "min": 0,
            "orientation": "horizontal",
            "style": "IPY_MODEL_996789a10d724386b484eb1fd094f2be",
            "value": 9912422
          }
        },
        "a95028e5be454639a3599382cbb4232b": {
          "model_module": "@jupyter-widgets/controls",
          "model_name": "HTMLModel",
          "model_module_version": "1.5.0",
          "state": {
            "_dom_classes": [],
            "_model_module": "@jupyter-widgets/controls",
            "_model_module_version": "1.5.0",
            "_model_name": "HTMLModel",
            "_view_count": null,
            "_view_module": "@jupyter-widgets/controls",
            "_view_module_version": "1.5.0",
            "_view_name": "HTMLView",
            "description": "",
            "description_tooltip": null,
            "layout": "IPY_MODEL_2f73a8fbe90e44a79a9230d20f6e271e",
            "placeholder": "​",
            "style": "IPY_MODEL_88776320ba9a47c38b9dd878d501acc1",
            "value": " 9912422/9912422 [00:00&lt;00:00, 11096497.24it/s]"
          }
        },
        "5e95c744c96e4fc49bbbaacefa7a9f60": {
          "model_module": "@jupyter-widgets/base",
          "model_name": "LayoutModel",
          "model_module_version": "1.2.0",
          "state": {
            "_model_module": "@jupyter-widgets/base",
            "_model_module_version": "1.2.0",
            "_model_name": "LayoutModel",
            "_view_count": null,
            "_view_module": "@jupyter-widgets/base",
            "_view_module_version": "1.2.0",
            "_view_name": "LayoutView",
            "align_content": null,
            "align_items": null,
            "align_self": null,
            "border": null,
            "bottom": null,
            "display": null,
            "flex": null,
            "flex_flow": null,
            "grid_area": null,
            "grid_auto_columns": null,
            "grid_auto_flow": null,
            "grid_auto_rows": null,
            "grid_column": null,
            "grid_gap": null,
            "grid_row": null,
            "grid_template_areas": null,
            "grid_template_columns": null,
            "grid_template_rows": null,
            "height": null,
            "justify_content": null,
            "justify_items": null,
            "left": null,
            "margin": null,
            "max_height": null,
            "max_width": null,
            "min_height": null,
            "min_width": null,
            "object_fit": null,
            "object_position": null,
            "order": null,
            "overflow": null,
            "overflow_x": null,
            "overflow_y": null,
            "padding": null,
            "right": null,
            "top": null,
            "visibility": null,
            "width": null
          }
        },
        "eabd958721204289934012845f794466": {
          "model_module": "@jupyter-widgets/base",
          "model_name": "LayoutModel",
          "model_module_version": "1.2.0",
          "state": {
            "_model_module": "@jupyter-widgets/base",
            "_model_module_version": "1.2.0",
            "_model_name": "LayoutModel",
            "_view_count": null,
            "_view_module": "@jupyter-widgets/base",
            "_view_module_version": "1.2.0",
            "_view_name": "LayoutView",
            "align_content": null,
            "align_items": null,
            "align_self": null,
            "border": null,
            "bottom": null,
            "display": null,
            "flex": null,
            "flex_flow": null,
            "grid_area": null,
            "grid_auto_columns": null,
            "grid_auto_flow": null,
            "grid_auto_rows": null,
            "grid_column": null,
            "grid_gap": null,
            "grid_row": null,
            "grid_template_areas": null,
            "grid_template_columns": null,
            "grid_template_rows": null,
            "height": null,
            "justify_content": null,
            "justify_items": null,
            "left": null,
            "margin": null,
            "max_height": null,
            "max_width": null,
            "min_height": null,
            "min_width": null,
            "object_fit": null,
            "object_position": null,
            "order": null,
            "overflow": null,
            "overflow_x": null,
            "overflow_y": null,
            "padding": null,
            "right": null,
            "top": null,
            "visibility": null,
            "width": null
          }
        },
        "6556df2c10474070b0e23e06e14cc388": {
          "model_module": "@jupyter-widgets/controls",
          "model_name": "DescriptionStyleModel",
          "model_module_version": "1.5.0",
          "state": {
            "_model_module": "@jupyter-widgets/controls",
            "_model_module_version": "1.5.0",
            "_model_name": "DescriptionStyleModel",
            "_view_count": null,
            "_view_module": "@jupyter-widgets/base",
            "_view_module_version": "1.2.0",
            "_view_name": "StyleView",
            "description_width": ""
          }
        },
        "194c7b3571e149c9b94c825eb606a1af": {
          "model_module": "@jupyter-widgets/base",
          "model_name": "LayoutModel",
          "model_module_version": "1.2.0",
          "state": {
            "_model_module": "@jupyter-widgets/base",
            "_model_module_version": "1.2.0",
            "_model_name": "LayoutModel",
            "_view_count": null,
            "_view_module": "@jupyter-widgets/base",
            "_view_module_version": "1.2.0",
            "_view_name": "LayoutView",
            "align_content": null,
            "align_items": null,
            "align_self": null,
            "border": null,
            "bottom": null,
            "display": null,
            "flex": null,
            "flex_flow": null,
            "grid_area": null,
            "grid_auto_columns": null,
            "grid_auto_flow": null,
            "grid_auto_rows": null,
            "grid_column": null,
            "grid_gap": null,
            "grid_row": null,
            "grid_template_areas": null,
            "grid_template_columns": null,
            "grid_template_rows": null,
            "height": null,
            "justify_content": null,
            "justify_items": null,
            "left": null,
            "margin": null,
            "max_height": null,
            "max_width": null,
            "min_height": null,
            "min_width": null,
            "object_fit": null,
            "object_position": null,
            "order": null,
            "overflow": null,
            "overflow_x": null,
            "overflow_y": null,
            "padding": null,
            "right": null,
            "top": null,
            "visibility": null,
            "width": null
          }
        },
        "996789a10d724386b484eb1fd094f2be": {
          "model_module": "@jupyter-widgets/controls",
          "model_name": "ProgressStyleModel",
          "model_module_version": "1.5.0",
          "state": {
            "_model_module": "@jupyter-widgets/controls",
            "_model_module_version": "1.5.0",
            "_model_name": "ProgressStyleModel",
            "_view_count": null,
            "_view_module": "@jupyter-widgets/base",
            "_view_module_version": "1.2.0",
            "_view_name": "StyleView",
            "bar_color": null,
            "description_width": ""
          }
        },
        "2f73a8fbe90e44a79a9230d20f6e271e": {
          "model_module": "@jupyter-widgets/base",
          "model_name": "LayoutModel",
          "model_module_version": "1.2.0",
          "state": {
            "_model_module": "@jupyter-widgets/base",
            "_model_module_version": "1.2.0",
            "_model_name": "LayoutModel",
            "_view_count": null,
            "_view_module": "@jupyter-widgets/base",
            "_view_module_version": "1.2.0",
            "_view_name": "LayoutView",
            "align_content": null,
            "align_items": null,
            "align_self": null,
            "border": null,
            "bottom": null,
            "display": null,
            "flex": null,
            "flex_flow": null,
            "grid_area": null,
            "grid_auto_columns": null,
            "grid_auto_flow": null,
            "grid_auto_rows": null,
            "grid_column": null,
            "grid_gap": null,
            "grid_row": null,
            "grid_template_areas": null,
            "grid_template_columns": null,
            "grid_template_rows": null,
            "height": null,
            "justify_content": null,
            "justify_items": null,
            "left": null,
            "margin": null,
            "max_height": null,
            "max_width": null,
            "min_height": null,
            "min_width": null,
            "object_fit": null,
            "object_position": null,
            "order": null,
            "overflow": null,
            "overflow_x": null,
            "overflow_y": null,
            "padding": null,
            "right": null,
            "top": null,
            "visibility": null,
            "width": null
          }
        },
        "88776320ba9a47c38b9dd878d501acc1": {
          "model_module": "@jupyter-widgets/controls",
          "model_name": "DescriptionStyleModel",
          "model_module_version": "1.5.0",
          "state": {
            "_model_module": "@jupyter-widgets/controls",
            "_model_module_version": "1.5.0",
            "_model_name": "DescriptionStyleModel",
            "_view_count": null,
            "_view_module": "@jupyter-widgets/base",
            "_view_module_version": "1.2.0",
            "_view_name": "StyleView",
            "description_width": ""
          }
        },
        "af51d08e8c554e9f9ebcb465d40bb872": {
          "model_module": "@jupyter-widgets/controls",
          "model_name": "HBoxModel",
          "model_module_version": "1.5.0",
          "state": {
            "_dom_classes": [],
            "_model_module": "@jupyter-widgets/controls",
            "_model_module_version": "1.5.0",
            "_model_name": "HBoxModel",
            "_view_count": null,
            "_view_module": "@jupyter-widgets/controls",
            "_view_module_version": "1.5.0",
            "_view_name": "HBoxView",
            "box_style": "",
            "children": [
              "IPY_MODEL_d518f117f9c54cc5aeaad3c1730d435f",
              "IPY_MODEL_63308ec883504951b5390db8faec387a",
              "IPY_MODEL_64159c856c5940a98397570a133ac25b"
            ],
            "layout": "IPY_MODEL_aeb63955a415444aa29b701c0fb78f97"
          }
        },
        "d518f117f9c54cc5aeaad3c1730d435f": {
          "model_module": "@jupyter-widgets/controls",
          "model_name": "HTMLModel",
          "model_module_version": "1.5.0",
          "state": {
            "_dom_classes": [],
            "_model_module": "@jupyter-widgets/controls",
            "_model_module_version": "1.5.0",
            "_model_name": "HTMLModel",
            "_view_count": null,
            "_view_module": "@jupyter-widgets/controls",
            "_view_module_version": "1.5.0",
            "_view_name": "HTMLView",
            "description": "",
            "description_tooltip": null,
            "layout": "IPY_MODEL_570ac3b63fa44080844eed721ed03e03",
            "placeholder": "​",
            "style": "IPY_MODEL_52c03c2b1cf041119667c7aae476db5e",
            "value": "100%"
          }
        },
        "63308ec883504951b5390db8faec387a": {
          "model_module": "@jupyter-widgets/controls",
          "model_name": "FloatProgressModel",
          "model_module_version": "1.5.0",
          "state": {
            "_dom_classes": [],
            "_model_module": "@jupyter-widgets/controls",
            "_model_module_version": "1.5.0",
            "_model_name": "FloatProgressModel",
            "_view_count": null,
            "_view_module": "@jupyter-widgets/controls",
            "_view_module_version": "1.5.0",
            "_view_name": "ProgressView",
            "bar_style": "success",
            "description": "",
            "description_tooltip": null,
            "layout": "IPY_MODEL_59e1725831e1499a8c340ec6dc8b203f",
            "max": 28881,
            "min": 0,
            "orientation": "horizontal",
            "style": "IPY_MODEL_2f6fa402a9db4b019c37560b4b0f70b2",
            "value": 28881
          }
        },
        "64159c856c5940a98397570a133ac25b": {
          "model_module": "@jupyter-widgets/controls",
          "model_name": "HTMLModel",
          "model_module_version": "1.5.0",
          "state": {
            "_dom_classes": [],
            "_model_module": "@jupyter-widgets/controls",
            "_model_module_version": "1.5.0",
            "_model_name": "HTMLModel",
            "_view_count": null,
            "_view_module": "@jupyter-widgets/controls",
            "_view_module_version": "1.5.0",
            "_view_name": "HTMLView",
            "description": "",
            "description_tooltip": null,
            "layout": "IPY_MODEL_40411e0a78f04b29b1e935ff49326c3b",
            "placeholder": "​",
            "style": "IPY_MODEL_212ebb3d86b747bdb3211fb844647620",
            "value": " 28881/28881 [00:00&lt;00:00, 802324.09it/s]"
          }
        },
        "aeb63955a415444aa29b701c0fb78f97": {
          "model_module": "@jupyter-widgets/base",
          "model_name": "LayoutModel",
          "model_module_version": "1.2.0",
          "state": {
            "_model_module": "@jupyter-widgets/base",
            "_model_module_version": "1.2.0",
            "_model_name": "LayoutModel",
            "_view_count": null,
            "_view_module": "@jupyter-widgets/base",
            "_view_module_version": "1.2.0",
            "_view_name": "LayoutView",
            "align_content": null,
            "align_items": null,
            "align_self": null,
            "border": null,
            "bottom": null,
            "display": null,
            "flex": null,
            "flex_flow": null,
            "grid_area": null,
            "grid_auto_columns": null,
            "grid_auto_flow": null,
            "grid_auto_rows": null,
            "grid_column": null,
            "grid_gap": null,
            "grid_row": null,
            "grid_template_areas": null,
            "grid_template_columns": null,
            "grid_template_rows": null,
            "height": null,
            "justify_content": null,
            "justify_items": null,
            "left": null,
            "margin": null,
            "max_height": null,
            "max_width": null,
            "min_height": null,
            "min_width": null,
            "object_fit": null,
            "object_position": null,
            "order": null,
            "overflow": null,
            "overflow_x": null,
            "overflow_y": null,
            "padding": null,
            "right": null,
            "top": null,
            "visibility": null,
            "width": null
          }
        },
        "570ac3b63fa44080844eed721ed03e03": {
          "model_module": "@jupyter-widgets/base",
          "model_name": "LayoutModel",
          "model_module_version": "1.2.0",
          "state": {
            "_model_module": "@jupyter-widgets/base",
            "_model_module_version": "1.2.0",
            "_model_name": "LayoutModel",
            "_view_count": null,
            "_view_module": "@jupyter-widgets/base",
            "_view_module_version": "1.2.0",
            "_view_name": "LayoutView",
            "align_content": null,
            "align_items": null,
            "align_self": null,
            "border": null,
            "bottom": null,
            "display": null,
            "flex": null,
            "flex_flow": null,
            "grid_area": null,
            "grid_auto_columns": null,
            "grid_auto_flow": null,
            "grid_auto_rows": null,
            "grid_column": null,
            "grid_gap": null,
            "grid_row": null,
            "grid_template_areas": null,
            "grid_template_columns": null,
            "grid_template_rows": null,
            "height": null,
            "justify_content": null,
            "justify_items": null,
            "left": null,
            "margin": null,
            "max_height": null,
            "max_width": null,
            "min_height": null,
            "min_width": null,
            "object_fit": null,
            "object_position": null,
            "order": null,
            "overflow": null,
            "overflow_x": null,
            "overflow_y": null,
            "padding": null,
            "right": null,
            "top": null,
            "visibility": null,
            "width": null
          }
        },
        "52c03c2b1cf041119667c7aae476db5e": {
          "model_module": "@jupyter-widgets/controls",
          "model_name": "DescriptionStyleModel",
          "model_module_version": "1.5.0",
          "state": {
            "_model_module": "@jupyter-widgets/controls",
            "_model_module_version": "1.5.0",
            "_model_name": "DescriptionStyleModel",
            "_view_count": null,
            "_view_module": "@jupyter-widgets/base",
            "_view_module_version": "1.2.0",
            "_view_name": "StyleView",
            "description_width": ""
          }
        },
        "59e1725831e1499a8c340ec6dc8b203f": {
          "model_module": "@jupyter-widgets/base",
          "model_name": "LayoutModel",
          "model_module_version": "1.2.0",
          "state": {
            "_model_module": "@jupyter-widgets/base",
            "_model_module_version": "1.2.0",
            "_model_name": "LayoutModel",
            "_view_count": null,
            "_view_module": "@jupyter-widgets/base",
            "_view_module_version": "1.2.0",
            "_view_name": "LayoutView",
            "align_content": null,
            "align_items": null,
            "align_self": null,
            "border": null,
            "bottom": null,
            "display": null,
            "flex": null,
            "flex_flow": null,
            "grid_area": null,
            "grid_auto_columns": null,
            "grid_auto_flow": null,
            "grid_auto_rows": null,
            "grid_column": null,
            "grid_gap": null,
            "grid_row": null,
            "grid_template_areas": null,
            "grid_template_columns": null,
            "grid_template_rows": null,
            "height": null,
            "justify_content": null,
            "justify_items": null,
            "left": null,
            "margin": null,
            "max_height": null,
            "max_width": null,
            "min_height": null,
            "min_width": null,
            "object_fit": null,
            "object_position": null,
            "order": null,
            "overflow": null,
            "overflow_x": null,
            "overflow_y": null,
            "padding": null,
            "right": null,
            "top": null,
            "visibility": null,
            "width": null
          }
        },
        "2f6fa402a9db4b019c37560b4b0f70b2": {
          "model_module": "@jupyter-widgets/controls",
          "model_name": "ProgressStyleModel",
          "model_module_version": "1.5.0",
          "state": {
            "_model_module": "@jupyter-widgets/controls",
            "_model_module_version": "1.5.0",
            "_model_name": "ProgressStyleModel",
            "_view_count": null,
            "_view_module": "@jupyter-widgets/base",
            "_view_module_version": "1.2.0",
            "_view_name": "StyleView",
            "bar_color": null,
            "description_width": ""
          }
        },
        "40411e0a78f04b29b1e935ff49326c3b": {
          "model_module": "@jupyter-widgets/base",
          "model_name": "LayoutModel",
          "model_module_version": "1.2.0",
          "state": {
            "_model_module": "@jupyter-widgets/base",
            "_model_module_version": "1.2.0",
            "_model_name": "LayoutModel",
            "_view_count": null,
            "_view_module": "@jupyter-widgets/base",
            "_view_module_version": "1.2.0",
            "_view_name": "LayoutView",
            "align_content": null,
            "align_items": null,
            "align_self": null,
            "border": null,
            "bottom": null,
            "display": null,
            "flex": null,
            "flex_flow": null,
            "grid_area": null,
            "grid_auto_columns": null,
            "grid_auto_flow": null,
            "grid_auto_rows": null,
            "grid_column": null,
            "grid_gap": null,
            "grid_row": null,
            "grid_template_areas": null,
            "grid_template_columns": null,
            "grid_template_rows": null,
            "height": null,
            "justify_content": null,
            "justify_items": null,
            "left": null,
            "margin": null,
            "max_height": null,
            "max_width": null,
            "min_height": null,
            "min_width": null,
            "object_fit": null,
            "object_position": null,
            "order": null,
            "overflow": null,
            "overflow_x": null,
            "overflow_y": null,
            "padding": null,
            "right": null,
            "top": null,
            "visibility": null,
            "width": null
          }
        },
        "212ebb3d86b747bdb3211fb844647620": {
          "model_module": "@jupyter-widgets/controls",
          "model_name": "DescriptionStyleModel",
          "model_module_version": "1.5.0",
          "state": {
            "_model_module": "@jupyter-widgets/controls",
            "_model_module_version": "1.5.0",
            "_model_name": "DescriptionStyleModel",
            "_view_count": null,
            "_view_module": "@jupyter-widgets/base",
            "_view_module_version": "1.2.0",
            "_view_name": "StyleView",
            "description_width": ""
          }
        },
        "bd744858cafc4ce2b132ca3141ff6ee1": {
          "model_module": "@jupyter-widgets/controls",
          "model_name": "HBoxModel",
          "model_module_version": "1.5.0",
          "state": {
            "_dom_classes": [],
            "_model_module": "@jupyter-widgets/controls",
            "_model_module_version": "1.5.0",
            "_model_name": "HBoxModel",
            "_view_count": null,
            "_view_module": "@jupyter-widgets/controls",
            "_view_module_version": "1.5.0",
            "_view_name": "HBoxView",
            "box_style": "",
            "children": [
              "IPY_MODEL_62ea93fef9394b34b01282fed8e64a18",
              "IPY_MODEL_04d71006560642c3b47f1f515dee6b5a",
              "IPY_MODEL_48d28177d08140eca74efb48e8c16620"
            ],
            "layout": "IPY_MODEL_06b80278034c4641abdfa5a4960958a2"
          }
        },
        "62ea93fef9394b34b01282fed8e64a18": {
          "model_module": "@jupyter-widgets/controls",
          "model_name": "HTMLModel",
          "model_module_version": "1.5.0",
          "state": {
            "_dom_classes": [],
            "_model_module": "@jupyter-widgets/controls",
            "_model_module_version": "1.5.0",
            "_model_name": "HTMLModel",
            "_view_count": null,
            "_view_module": "@jupyter-widgets/controls",
            "_view_module_version": "1.5.0",
            "_view_name": "HTMLView",
            "description": "",
            "description_tooltip": null,
            "layout": "IPY_MODEL_b3f830a3825b4d5c8e9da1654f61de78",
            "placeholder": "​",
            "style": "IPY_MODEL_fd3f3c57e53e4adb9ac0249a6d5859c7",
            "value": "100%"
          }
        },
        "04d71006560642c3b47f1f515dee6b5a": {
          "model_module": "@jupyter-widgets/controls",
          "model_name": "FloatProgressModel",
          "model_module_version": "1.5.0",
          "state": {
            "_dom_classes": [],
            "_model_module": "@jupyter-widgets/controls",
            "_model_module_version": "1.5.0",
            "_model_name": "FloatProgressModel",
            "_view_count": null,
            "_view_module": "@jupyter-widgets/controls",
            "_view_module_version": "1.5.0",
            "_view_name": "ProgressView",
            "bar_style": "success",
            "description": "",
            "description_tooltip": null,
            "layout": "IPY_MODEL_caaaac31655345ce938659dc48aaf851",
            "max": 1648877,
            "min": 0,
            "orientation": "horizontal",
            "style": "IPY_MODEL_f624960299ae472582fd288a58ff7c72",
            "value": 1648877
          }
        },
        "48d28177d08140eca74efb48e8c16620": {
          "model_module": "@jupyter-widgets/controls",
          "model_name": "HTMLModel",
          "model_module_version": "1.5.0",
          "state": {
            "_dom_classes": [],
            "_model_module": "@jupyter-widgets/controls",
            "_model_module_version": "1.5.0",
            "_model_name": "HTMLModel",
            "_view_count": null,
            "_view_module": "@jupyter-widgets/controls",
            "_view_module_version": "1.5.0",
            "_view_name": "HTMLView",
            "description": "",
            "description_tooltip": null,
            "layout": "IPY_MODEL_daaee70edc794feb91f0ed66f8898824",
            "placeholder": "​",
            "style": "IPY_MODEL_c0f45081f1e742e189606b9e897335a7",
            "value": " 1648877/1648877 [00:00&lt;00:00, 2892940.06it/s]"
          }
        },
        "06b80278034c4641abdfa5a4960958a2": {
          "model_module": "@jupyter-widgets/base",
          "model_name": "LayoutModel",
          "model_module_version": "1.2.0",
          "state": {
            "_model_module": "@jupyter-widgets/base",
            "_model_module_version": "1.2.0",
            "_model_name": "LayoutModel",
            "_view_count": null,
            "_view_module": "@jupyter-widgets/base",
            "_view_module_version": "1.2.0",
            "_view_name": "LayoutView",
            "align_content": null,
            "align_items": null,
            "align_self": null,
            "border": null,
            "bottom": null,
            "display": null,
            "flex": null,
            "flex_flow": null,
            "grid_area": null,
            "grid_auto_columns": null,
            "grid_auto_flow": null,
            "grid_auto_rows": null,
            "grid_column": null,
            "grid_gap": null,
            "grid_row": null,
            "grid_template_areas": null,
            "grid_template_columns": null,
            "grid_template_rows": null,
            "height": null,
            "justify_content": null,
            "justify_items": null,
            "left": null,
            "margin": null,
            "max_height": null,
            "max_width": null,
            "min_height": null,
            "min_width": null,
            "object_fit": null,
            "object_position": null,
            "order": null,
            "overflow": null,
            "overflow_x": null,
            "overflow_y": null,
            "padding": null,
            "right": null,
            "top": null,
            "visibility": null,
            "width": null
          }
        },
        "b3f830a3825b4d5c8e9da1654f61de78": {
          "model_module": "@jupyter-widgets/base",
          "model_name": "LayoutModel",
          "model_module_version": "1.2.0",
          "state": {
            "_model_module": "@jupyter-widgets/base",
            "_model_module_version": "1.2.0",
            "_model_name": "LayoutModel",
            "_view_count": null,
            "_view_module": "@jupyter-widgets/base",
            "_view_module_version": "1.2.0",
            "_view_name": "LayoutView",
            "align_content": null,
            "align_items": null,
            "align_self": null,
            "border": null,
            "bottom": null,
            "display": null,
            "flex": null,
            "flex_flow": null,
            "grid_area": null,
            "grid_auto_columns": null,
            "grid_auto_flow": null,
            "grid_auto_rows": null,
            "grid_column": null,
            "grid_gap": null,
            "grid_row": null,
            "grid_template_areas": null,
            "grid_template_columns": null,
            "grid_template_rows": null,
            "height": null,
            "justify_content": null,
            "justify_items": null,
            "left": null,
            "margin": null,
            "max_height": null,
            "max_width": null,
            "min_height": null,
            "min_width": null,
            "object_fit": null,
            "object_position": null,
            "order": null,
            "overflow": null,
            "overflow_x": null,
            "overflow_y": null,
            "padding": null,
            "right": null,
            "top": null,
            "visibility": null,
            "width": null
          }
        },
        "fd3f3c57e53e4adb9ac0249a6d5859c7": {
          "model_module": "@jupyter-widgets/controls",
          "model_name": "DescriptionStyleModel",
          "model_module_version": "1.5.0",
          "state": {
            "_model_module": "@jupyter-widgets/controls",
            "_model_module_version": "1.5.0",
            "_model_name": "DescriptionStyleModel",
            "_view_count": null,
            "_view_module": "@jupyter-widgets/base",
            "_view_module_version": "1.2.0",
            "_view_name": "StyleView",
            "description_width": ""
          }
        },
        "caaaac31655345ce938659dc48aaf851": {
          "model_module": "@jupyter-widgets/base",
          "model_name": "LayoutModel",
          "model_module_version": "1.2.0",
          "state": {
            "_model_module": "@jupyter-widgets/base",
            "_model_module_version": "1.2.0",
            "_model_name": "LayoutModel",
            "_view_count": null,
            "_view_module": "@jupyter-widgets/base",
            "_view_module_version": "1.2.0",
            "_view_name": "LayoutView",
            "align_content": null,
            "align_items": null,
            "align_self": null,
            "border": null,
            "bottom": null,
            "display": null,
            "flex": null,
            "flex_flow": null,
            "grid_area": null,
            "grid_auto_columns": null,
            "grid_auto_flow": null,
            "grid_auto_rows": null,
            "grid_column": null,
            "grid_gap": null,
            "grid_row": null,
            "grid_template_areas": null,
            "grid_template_columns": null,
            "grid_template_rows": null,
            "height": null,
            "justify_content": null,
            "justify_items": null,
            "left": null,
            "margin": null,
            "max_height": null,
            "max_width": null,
            "min_height": null,
            "min_width": null,
            "object_fit": null,
            "object_position": null,
            "order": null,
            "overflow": null,
            "overflow_x": null,
            "overflow_y": null,
            "padding": null,
            "right": null,
            "top": null,
            "visibility": null,
            "width": null
          }
        },
        "f624960299ae472582fd288a58ff7c72": {
          "model_module": "@jupyter-widgets/controls",
          "model_name": "ProgressStyleModel",
          "model_module_version": "1.5.0",
          "state": {
            "_model_module": "@jupyter-widgets/controls",
            "_model_module_version": "1.5.0",
            "_model_name": "ProgressStyleModel",
            "_view_count": null,
            "_view_module": "@jupyter-widgets/base",
            "_view_module_version": "1.2.0",
            "_view_name": "StyleView",
            "bar_color": null,
            "description_width": ""
          }
        },
        "daaee70edc794feb91f0ed66f8898824": {
          "model_module": "@jupyter-widgets/base",
          "model_name": "LayoutModel",
          "model_module_version": "1.2.0",
          "state": {
            "_model_module": "@jupyter-widgets/base",
            "_model_module_version": "1.2.0",
            "_model_name": "LayoutModel",
            "_view_count": null,
            "_view_module": "@jupyter-widgets/base",
            "_view_module_version": "1.2.0",
            "_view_name": "LayoutView",
            "align_content": null,
            "align_items": null,
            "align_self": null,
            "border": null,
            "bottom": null,
            "display": null,
            "flex": null,
            "flex_flow": null,
            "grid_area": null,
            "grid_auto_columns": null,
            "grid_auto_flow": null,
            "grid_auto_rows": null,
            "grid_column": null,
            "grid_gap": null,
            "grid_row": null,
            "grid_template_areas": null,
            "grid_template_columns": null,
            "grid_template_rows": null,
            "height": null,
            "justify_content": null,
            "justify_items": null,
            "left": null,
            "margin": null,
            "max_height": null,
            "max_width": null,
            "min_height": null,
            "min_width": null,
            "object_fit": null,
            "object_position": null,
            "order": null,
            "overflow": null,
            "overflow_x": null,
            "overflow_y": null,
            "padding": null,
            "right": null,
            "top": null,
            "visibility": null,
            "width": null
          }
        },
        "c0f45081f1e742e189606b9e897335a7": {
          "model_module": "@jupyter-widgets/controls",
          "model_name": "DescriptionStyleModel",
          "model_module_version": "1.5.0",
          "state": {
            "_model_module": "@jupyter-widgets/controls",
            "_model_module_version": "1.5.0",
            "_model_name": "DescriptionStyleModel",
            "_view_count": null,
            "_view_module": "@jupyter-widgets/base",
            "_view_module_version": "1.2.0",
            "_view_name": "StyleView",
            "description_width": ""
          }
        },
        "70720ee3671e4cdf82b9edc125b42013": {
          "model_module": "@jupyter-widgets/controls",
          "model_name": "HBoxModel",
          "model_module_version": "1.5.0",
          "state": {
            "_dom_classes": [],
            "_model_module": "@jupyter-widgets/controls",
            "_model_module_version": "1.5.0",
            "_model_name": "HBoxModel",
            "_view_count": null,
            "_view_module": "@jupyter-widgets/controls",
            "_view_module_version": "1.5.0",
            "_view_name": "HBoxView",
            "box_style": "",
            "children": [
              "IPY_MODEL_2847606a38114d95ab4f44b49fd0515c",
              "IPY_MODEL_c372734662d04ff6a036fe2970c2bf8a",
              "IPY_MODEL_d5f52cc994c34bbaa94a3f0bbf65d4a2"
            ],
            "layout": "IPY_MODEL_1bae93f02dcb4e5d9dbef7ab160882ee"
          }
        },
        "2847606a38114d95ab4f44b49fd0515c": {
          "model_module": "@jupyter-widgets/controls",
          "model_name": "HTMLModel",
          "model_module_version": "1.5.0",
          "state": {
            "_dom_classes": [],
            "_model_module": "@jupyter-widgets/controls",
            "_model_module_version": "1.5.0",
            "_model_name": "HTMLModel",
            "_view_count": null,
            "_view_module": "@jupyter-widgets/controls",
            "_view_module_version": "1.5.0",
            "_view_name": "HTMLView",
            "description": "",
            "description_tooltip": null,
            "layout": "IPY_MODEL_6b2ffea06bd3496eb5028325bb70c8aa",
            "placeholder": "​",
            "style": "IPY_MODEL_5ab24d97bd814d52b79e7af28d0301ec",
            "value": "100%"
          }
        },
        "c372734662d04ff6a036fe2970c2bf8a": {
          "model_module": "@jupyter-widgets/controls",
          "model_name": "FloatProgressModel",
          "model_module_version": "1.5.0",
          "state": {
            "_dom_classes": [],
            "_model_module": "@jupyter-widgets/controls",
            "_model_module_version": "1.5.0",
            "_model_name": "FloatProgressModel",
            "_view_count": null,
            "_view_module": "@jupyter-widgets/controls",
            "_view_module_version": "1.5.0",
            "_view_name": "ProgressView",
            "bar_style": "success",
            "description": "",
            "description_tooltip": null,
            "layout": "IPY_MODEL_e12a7d59d2b04052a37e0966da379f30",
            "max": 4542,
            "min": 0,
            "orientation": "horizontal",
            "style": "IPY_MODEL_811d95f5a4b74ff196cd31093c89a88c",
            "value": 4542
          }
        },
        "d5f52cc994c34bbaa94a3f0bbf65d4a2": {
          "model_module": "@jupyter-widgets/controls",
          "model_name": "HTMLModel",
          "model_module_version": "1.5.0",
          "state": {
            "_dom_classes": [],
            "_model_module": "@jupyter-widgets/controls",
            "_model_module_version": "1.5.0",
            "_model_name": "HTMLModel",
            "_view_count": null,
            "_view_module": "@jupyter-widgets/controls",
            "_view_module_version": "1.5.0",
            "_view_name": "HTMLView",
            "description": "",
            "description_tooltip": null,
            "layout": "IPY_MODEL_cbcf5705a038454f8caa334cd7a4a3d8",
            "placeholder": "​",
            "style": "IPY_MODEL_09a56891b6304764974dd73eb2ddf1f9",
            "value": " 4542/4542 [00:00&lt;00:00, 92906.75it/s]"
          }
        },
        "1bae93f02dcb4e5d9dbef7ab160882ee": {
          "model_module": "@jupyter-widgets/base",
          "model_name": "LayoutModel",
          "model_module_version": "1.2.0",
          "state": {
            "_model_module": "@jupyter-widgets/base",
            "_model_module_version": "1.2.0",
            "_model_name": "LayoutModel",
            "_view_count": null,
            "_view_module": "@jupyter-widgets/base",
            "_view_module_version": "1.2.0",
            "_view_name": "LayoutView",
            "align_content": null,
            "align_items": null,
            "align_self": null,
            "border": null,
            "bottom": null,
            "display": null,
            "flex": null,
            "flex_flow": null,
            "grid_area": null,
            "grid_auto_columns": null,
            "grid_auto_flow": null,
            "grid_auto_rows": null,
            "grid_column": null,
            "grid_gap": null,
            "grid_row": null,
            "grid_template_areas": null,
            "grid_template_columns": null,
            "grid_template_rows": null,
            "height": null,
            "justify_content": null,
            "justify_items": null,
            "left": null,
            "margin": null,
            "max_height": null,
            "max_width": null,
            "min_height": null,
            "min_width": null,
            "object_fit": null,
            "object_position": null,
            "order": null,
            "overflow": null,
            "overflow_x": null,
            "overflow_y": null,
            "padding": null,
            "right": null,
            "top": null,
            "visibility": null,
            "width": null
          }
        },
        "6b2ffea06bd3496eb5028325bb70c8aa": {
          "model_module": "@jupyter-widgets/base",
          "model_name": "LayoutModel",
          "model_module_version": "1.2.0",
          "state": {
            "_model_module": "@jupyter-widgets/base",
            "_model_module_version": "1.2.0",
            "_model_name": "LayoutModel",
            "_view_count": null,
            "_view_module": "@jupyter-widgets/base",
            "_view_module_version": "1.2.0",
            "_view_name": "LayoutView",
            "align_content": null,
            "align_items": null,
            "align_self": null,
            "border": null,
            "bottom": null,
            "display": null,
            "flex": null,
            "flex_flow": null,
            "grid_area": null,
            "grid_auto_columns": null,
            "grid_auto_flow": null,
            "grid_auto_rows": null,
            "grid_column": null,
            "grid_gap": null,
            "grid_row": null,
            "grid_template_areas": null,
            "grid_template_columns": null,
            "grid_template_rows": null,
            "height": null,
            "justify_content": null,
            "justify_items": null,
            "left": null,
            "margin": null,
            "max_height": null,
            "max_width": null,
            "min_height": null,
            "min_width": null,
            "object_fit": null,
            "object_position": null,
            "order": null,
            "overflow": null,
            "overflow_x": null,
            "overflow_y": null,
            "padding": null,
            "right": null,
            "top": null,
            "visibility": null,
            "width": null
          }
        },
        "5ab24d97bd814d52b79e7af28d0301ec": {
          "model_module": "@jupyter-widgets/controls",
          "model_name": "DescriptionStyleModel",
          "model_module_version": "1.5.0",
          "state": {
            "_model_module": "@jupyter-widgets/controls",
            "_model_module_version": "1.5.0",
            "_model_name": "DescriptionStyleModel",
            "_view_count": null,
            "_view_module": "@jupyter-widgets/base",
            "_view_module_version": "1.2.0",
            "_view_name": "StyleView",
            "description_width": ""
          }
        },
        "e12a7d59d2b04052a37e0966da379f30": {
          "model_module": "@jupyter-widgets/base",
          "model_name": "LayoutModel",
          "model_module_version": "1.2.0",
          "state": {
            "_model_module": "@jupyter-widgets/base",
            "_model_module_version": "1.2.0",
            "_model_name": "LayoutModel",
            "_view_count": null,
            "_view_module": "@jupyter-widgets/base",
            "_view_module_version": "1.2.0",
            "_view_name": "LayoutView",
            "align_content": null,
            "align_items": null,
            "align_self": null,
            "border": null,
            "bottom": null,
            "display": null,
            "flex": null,
            "flex_flow": null,
            "grid_area": null,
            "grid_auto_columns": null,
            "grid_auto_flow": null,
            "grid_auto_rows": null,
            "grid_column": null,
            "grid_gap": null,
            "grid_row": null,
            "grid_template_areas": null,
            "grid_template_columns": null,
            "grid_template_rows": null,
            "height": null,
            "justify_content": null,
            "justify_items": null,
            "left": null,
            "margin": null,
            "max_height": null,
            "max_width": null,
            "min_height": null,
            "min_width": null,
            "object_fit": null,
            "object_position": null,
            "order": null,
            "overflow": null,
            "overflow_x": null,
            "overflow_y": null,
            "padding": null,
            "right": null,
            "top": null,
            "visibility": null,
            "width": null
          }
        },
        "811d95f5a4b74ff196cd31093c89a88c": {
          "model_module": "@jupyter-widgets/controls",
          "model_name": "ProgressStyleModel",
          "model_module_version": "1.5.0",
          "state": {
            "_model_module": "@jupyter-widgets/controls",
            "_model_module_version": "1.5.0",
            "_model_name": "ProgressStyleModel",
            "_view_count": null,
            "_view_module": "@jupyter-widgets/base",
            "_view_module_version": "1.2.0",
            "_view_name": "StyleView",
            "bar_color": null,
            "description_width": ""
          }
        },
        "cbcf5705a038454f8caa334cd7a4a3d8": {
          "model_module": "@jupyter-widgets/base",
          "model_name": "LayoutModel",
          "model_module_version": "1.2.0",
          "state": {
            "_model_module": "@jupyter-widgets/base",
            "_model_module_version": "1.2.0",
            "_model_name": "LayoutModel",
            "_view_count": null,
            "_view_module": "@jupyter-widgets/base",
            "_view_module_version": "1.2.0",
            "_view_name": "LayoutView",
            "align_content": null,
            "align_items": null,
            "align_self": null,
            "border": null,
            "bottom": null,
            "display": null,
            "flex": null,
            "flex_flow": null,
            "grid_area": null,
            "grid_auto_columns": null,
            "grid_auto_flow": null,
            "grid_auto_rows": null,
            "grid_column": null,
            "grid_gap": null,
            "grid_row": null,
            "grid_template_areas": null,
            "grid_template_columns": null,
            "grid_template_rows": null,
            "height": null,
            "justify_content": null,
            "justify_items": null,
            "left": null,
            "margin": null,
            "max_height": null,
            "max_width": null,
            "min_height": null,
            "min_width": null,
            "object_fit": null,
            "object_position": null,
            "order": null,
            "overflow": null,
            "overflow_x": null,
            "overflow_y": null,
            "padding": null,
            "right": null,
            "top": null,
            "visibility": null,
            "width": null
          }
        },
        "09a56891b6304764974dd73eb2ddf1f9": {
          "model_module": "@jupyter-widgets/controls",
          "model_name": "DescriptionStyleModel",
          "model_module_version": "1.5.0",
          "state": {
            "_model_module": "@jupyter-widgets/controls",
            "_model_module_version": "1.5.0",
            "_model_name": "DescriptionStyleModel",
            "_view_count": null,
            "_view_module": "@jupyter-widgets/base",
            "_view_module_version": "1.2.0",
            "_view_name": "StyleView",
            "description_width": ""
          }
        }
      }
    }
  },
  "nbformat": 4,
  "nbformat_minor": 0
}